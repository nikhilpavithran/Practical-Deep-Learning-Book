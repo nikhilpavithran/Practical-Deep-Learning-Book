{
  "nbformat": 4,
  "nbformat_minor": 0,
  "metadata": {
    "colab": {
      "name": "Copy of Anam1.ipynb",
      "provenance": [],
      "collapsed_sections": [],
      "authorship_tag": "ABX9TyOcGGOu0O6rGNMGLZ/MYfGH",
      "include_colab_link": true
    },
    "kernelspec": {
      "name": "python3",
      "display_name": "Python 3"
    },
    "accelerator": "GPU"
  },
  "cells": [
    {
      "cell_type": "markdown",
      "metadata": {
        "id": "view-in-github",
        "colab_type": "text"
      },
      "source": [
        "<a href=\"https://colab.research.google.com/github/nikhilpavithran/Practical-Deep-Learning-Book/blob/master/Anam_Feb4.ipynb\" target=\"_parent\"><img src=\"https://colab.research.google.com/assets/colab-badge.svg\" alt=\"Open In Colab\"/></a>"
      ]
    },
    {
      "cell_type": "code",
      "metadata": {
        "colab": {
          "base_uri": "https://localhost:8080/"
        },
        "id": "pmYAIchnicnO",
        "outputId": "e55fb81d-316d-46e9-b4a1-88cb9e6b465f"
      },
      "source": [
        "#https://stackoverflow.com/questions/52128744/how-to-ensure-all-pytorch-code-fully-utilises-gpu-on-google-colab\r\n",
        "\r\n",
        "import torch\r\n",
        "import torch.nn as nn\r\n",
        "\r\n",
        "class Bottleneck(nn.Module):\r\n",
        "    def __init__(self,\r\n",
        "                 channels,\r\n",
        "                 internal_ratio=4,\r\n",
        "                 kernel_size=3,\r\n",
        "                 padding =1,\r\n",
        "                 dilation=1,\r\n",
        "                 asymmetric=False,\r\n",
        "                 dropout_prob=0,\r\n",
        "                 bias=False,\r\n",
        "                 relu=True):\r\n",
        "        super().__init__()\r\n",
        "\r\n",
        "        # Check in the internal_scale parameter is within the expected range\r\n",
        "        # [1, channels]\r\n",
        "        if internal_ratio <= 1 or internal_ratio > channels:\r\n",
        "            raise RuntimeError(\"Value out of range. Expected value in the \"\r\n",
        "                               \"interval [1, {0}], got internal_scale={1}.\"\r\n",
        "                               .format(channels, internal_ratio))\r\n",
        "\r\n",
        "        internal_channels = channels // internal_ratio\r\n",
        "\r\n",
        "        if relu:\r\n",
        "            activation = nn.ReLU\r\n",
        "        else:\r\n",
        "            activation = nn.PReLU\r\n",
        "\r\n",
        "        # Main branch - shortcut connection\r\n",
        "\r\n",
        "        # 1x1 projection convolution\r\n",
        "        self.ext_conv1 = nn.Sequential(\r\n",
        "            nn.Conv2d(\r\n",
        "                channels,\r\n",
        "                internal_channels,\r\n",
        "                kernel_size=1,\r\n",
        "                stride=1,\r\n",
        "                bias=bias), nn.BatchNorm2d(internal_channels), activation())\r\n",
        "\r\n",
        "\r\n",
        "        self.ext_conv2 = nn.Sequential(\r\n",
        "             nn.Conv2d(\r\n",
        "                internal_channels,\r\n",
        "                internal_channels,\r\n",
        "                kernel_size=kernel_size,\r\n",
        "                stride=1,\r\n",
        "                padding=padding,\r\n",
        "                dilation=dilation,\r\n",
        "                bias=bias), nn.BatchNorm2d(internal_channels), activation())\r\n",
        "\r\n",
        "        # 1x1 expansion convolution\r\n",
        "        self.ext_conv3 = nn.Sequential(\r\n",
        "            nn.Conv2d(\r\n",
        "                internal_channels,\r\n",
        "                channels,\r\n",
        "                kernel_size=1,\r\n",
        "                stride=1,\r\n",
        "                bias=bias), nn.BatchNorm2d(channels), activation())\r\n",
        "\r\n",
        "        self.ext_regul = nn.Dropout2d(p=dropout_prob)\r\n",
        "        # PReLU layer to apply after adding the branches\r\n",
        "        self.out_activation = activation()\r\n",
        "\r\n",
        "    def forward(self, x):\r\n",
        "        # Main branch shortcut\r\n",
        "        main = x\r\n",
        "        # Extension branch\r\n",
        "        ext = self.ext_conv1(x)\r\n",
        "        ext = self.ext_conv2(ext)\r\n",
        "        ext = self.ext_conv3(ext)\r\n",
        "        ext = self.ext_regul(ext)\r\n",
        "        # Add main and extension branches\r\n",
        "        out = main + ext\r\n",
        "        return self.out_activation(out)\r\n",
        "\r\n",
        "class AnamNet(nn.Module):\r\n",
        "\r\n",
        "    def __init__(self):\r\n",
        "\r\n",
        "        super(AnamNet, self).__init__()\r\n",
        "\r\n",
        "        # Conv block 1 - Down 1\r\n",
        "        self.conv1_block = nn.Sequential(\r\n",
        "            nn.Conv2d(in_channels=1, out_channels=64,\r\n",
        "                      kernel_size=3, padding=1, stride=1),\r\n",
        "            nn.BatchNorm2d(64),\r\n",
        "            nn.ReLU(inplace=True),\r\n",
        "            )\r\n",
        "        self.max1 = nn.MaxPool2d(kernel_size=2, stride=2)\r\n",
        "        \r\n",
        "        # BottleNeck 1\r\n",
        "        self.bottleneck1 = Bottleneck(64)\r\n",
        "\r\n",
        "\r\n",
        "        # Conv block 2 - Down 2\r\n",
        "        self.conv2_block = nn.Sequential(\r\n",
        "            nn.Conv2d(in_channels=64, out_channels=128,\r\n",
        "                      kernel_size=3, padding=1, stride=1),\r\n",
        "            nn.BatchNorm2d(128),\r\n",
        "            nn.ReLU(inplace=True),\r\n",
        "        )\r\n",
        "        self.max2 = nn.MaxPool2d(kernel_size=2, stride=2)\r\n",
        "        \r\n",
        "        # BottleNeck 2\r\n",
        "        self.bottleneck2 = Bottleneck(128)\r\n",
        "\r\n",
        "        # Conv block 3 - Down 3\r\n",
        "        self.conv3_block = nn.Sequential(\r\n",
        "            nn.Conv2d(in_channels=128, out_channels=256,\r\n",
        "                      kernel_size=3, padding=1, stride=1),\r\n",
        "            nn.BatchNorm2d(256),\r\n",
        "            nn.ReLU(inplace=True),\r\n",
        "        )\r\n",
        "        self.max3 = nn.MaxPool2d(kernel_size=2, stride=2)\r\n",
        "        \r\n",
        "        # BottleNeck 3\r\n",
        "        self.bottleneck3 = Bottleneck(256)\r\n",
        "\r\n",
        "        # Conv block 4 - Down 4\r\n",
        "        self.conv4_block = nn.Sequential(\r\n",
        "            nn.Conv2d(in_channels=256, out_channels=256,\r\n",
        "                      kernel_size=3, padding=1, stride=1),\r\n",
        "            nn.BatchNorm2d(256),\r\n",
        "            nn.ReLU(inplace=True),\r\n",
        "        )\r\n",
        "        self.max4 = nn.MaxPool2d(kernel_size=2, stride=2)\r\n",
        "\r\n",
        "        # Up 1\r\n",
        "        self.up_1 = nn.ConvTranspose2d(in_channels=256, out_channels=256, kernel_size=2, stride=2)\r\n",
        "\r\n",
        "        self.bottleneck4 = Bottleneck(256)\r\n",
        "        # Up Conv block 1\r\n",
        "        self.conv_up_1 = nn.Sequential(\r\n",
        "            nn.Conv2d(in_channels=512, out_channels=256,\r\n",
        "                      kernel_size=3, padding=1, stride=1),\r\n",
        "            nn.BatchNorm2d(256),\r\n",
        "            nn.ReLU(inplace=True),\r\n",
        "        )\r\n",
        "\r\n",
        "        # Up 2\r\n",
        "        self.up_2 = nn.ConvTranspose2d(in_channels=256, out_channels=256, kernel_size=2, stride=2)\r\n",
        "        \r\n",
        "        self.bottleneck5 =Bottleneck(256)    \r\n",
        "        # Up Conv block 2\r\n",
        "        self.conv_up_2 = nn.Sequential(\r\n",
        "            nn.Conv2d(in_channels=512, out_channels=256,\r\n",
        "                      kernel_size=3, padding=1, stride=1),\r\n",
        "            nn.BatchNorm2d(256),\r\n",
        "            nn.ReLU(inplace=True),\r\n",
        "        )\r\n",
        "\r\n",
        "        # Up 3\r\n",
        "        self.up_3 = nn.ConvTranspose2d(in_channels=256, out_channels=128, kernel_size=2, stride=2)\r\n",
        "\r\n",
        "        self.bottleneck6 = Bottleneck(128)\r\n",
        "        # Up Conv block 3\r\n",
        "        self.conv_up_3 = nn.Sequential(\r\n",
        "            nn.Conv2d(in_channels=256, out_channels=128,\r\n",
        "                      kernel_size=3, padding=1, stride=1),\r\n",
        "            nn.BatchNorm2d(128),\r\n",
        "            nn.ReLU(inplace=True),\r\n",
        "        )\r\n",
        "\r\n",
        "        # Up 4\r\n",
        "        self.up_4 = nn.ConvTranspose2d(in_channels=128, out_channels=64, kernel_size=2, stride=2)\r\n",
        "\r\n",
        "        # Up Conv block 4\r\n",
        "        self.conv_up_4 = nn.Sequential(\r\n",
        "            nn.Conv2d(in_channels=128, out_channels=64,\r\n",
        "                      kernel_size=3, padding=1, stride=1),\r\n",
        "            nn.BatchNorm2d(64),\r\n",
        "            nn.ReLU(inplace=True),\r\n",
        "        )\r\n",
        "\r\n",
        "        # Final output\r\n",
        "        self.conv_final = nn.Conv2d(in_channels=64, out_channels=3,\r\n",
        "                                    kernel_size=1, padding=0, stride=1)\r\n",
        "\r\n",
        "    def forward(self, x):\r\n",
        "        \r\n",
        "        #print('inputTensor', x.shape)\r\n",
        "        #---------------------------------------------------------------------\r\n",
        "        # Down 1\r\n",
        "        x = self.conv1_block(x)\r\n",
        "        #print('after conv1', x.shape)\r\n",
        "        conv1_out = x  # Save out1\r\n",
        "        conv1_dim = x.shape[2]\r\n",
        "        x = self.max1(x)\r\n",
        "        #print('after pool1', x.shape)\r\n",
        "        #--------------------------------------------------------------------\r\n",
        "        x = self.bottleneck1(x)\r\n",
        "        #print('after bnck1', x.shape)\r\n",
        "        # Down 2\r\n",
        "        x = self.conv2_block(x)\r\n",
        "        #print('after conv2', x.shape)\r\n",
        "        conv2_out = x\r\n",
        "        conv2_dim = x.shape[2]\r\n",
        "        x = self.max2(x)\r\n",
        "        #print('after pool2', x.shape)\r\n",
        "        #-------------------------------------------------------------------\r\n",
        "        x = self.bottleneck2(x)\r\n",
        "        #print('after bnck2', x.shape)\r\n",
        "        # Down 3\r\n",
        "        x = self.conv3_block(x)\r\n",
        "        #print('after conv3', x.shape)\r\n",
        "        conv3_out = x\r\n",
        "        conv3_dim = x.shape[2]\r\n",
        "        x = self.max3(x)\r\n",
        "        #print('after pool3', x.shape)\r\n",
        "        #------------------------------------------------------------------\r\n",
        "        x = self.bottleneck3(x)\r\n",
        "        #print('after bnck3', x.shape)\r\n",
        "        # Down 4\r\n",
        "        x = self.conv4_block(x)\r\n",
        "        #print('after conv4', x.shape)\r\n",
        "        conv4_out = x\r\n",
        "        conv4_dim = x.shape[2]\r\n",
        "        x = self.max4(x)\r\n",
        "        #print('after pool4', x.shape)\r\n",
        "        #----------------------------------------------------------------        \r\n",
        "        # Up 1\r\n",
        "        x = self.up_1(x)\r\n",
        "        #print('after  up_1', x.shape)\r\n",
        "        x = self.bottleneck4(x)\r\n",
        "        #print('after bnck4', x.shape)\r\n",
        "        lower = int((conv4_dim - x.shape[2]) / 2)\r\n",
        "        upper = int(conv4_dim - lower)\r\n",
        "        conv4_out_modified = conv4_out[:, :, lower:upper, lower:upper]\r\n",
        "        x = torch.cat([x, conv4_out_modified], dim=1)\r\n",
        "        #print('after cat_1',x.shape)        \r\n",
        "        x = self.conv_up_1(x)\r\n",
        "        #print('after conv1', x.shape)\r\n",
        "        #-----------------------------------------------------------------\r\n",
        "        # Up 2\r\n",
        "        x = self.up_2(x)\r\n",
        "        #print('after  up_2', x.shape)\r\n",
        "        x = self.bottleneck5(x)\r\n",
        "        #print('after bnck5', x.shape)\r\n",
        "        lower = int((conv3_dim - x.shape[2]) / 2)\r\n",
        "        upper = int(conv3_dim - lower)\r\n",
        "        conv3_out_modified = conv3_out[:, :, lower:upper, lower:upper]\r\n",
        "        x = torch.cat([x, conv3_out_modified], dim=1)\r\n",
        "        #print('after cat_2', x.shape)\r\n",
        "        x = self.conv_up_2(x)\r\n",
        "        #print('after conv2', x.shape)\r\n",
        "        #----------------------------------------------------------------\r\n",
        "        # Up 3\r\n",
        "        x = self.up_3(x)\r\n",
        "        #print('after  up_3', x.shape)\r\n",
        "        x = self.bottleneck6(x)\r\n",
        "        #print('after bnck6', x.shape)\r\n",
        "        lower = int((conv2_dim - x.shape[2]) / 2)\r\n",
        "        upper = int(conv2_dim - lower)\r\n",
        "        conv2_out_modified = conv2_out[:, :, lower:upper, lower:upper]\r\n",
        "        x = torch.cat([x, conv2_out_modified], dim=1)\r\n",
        "        #print('after cat_3', x.shape)\r\n",
        "        x = self.conv_up_3(x)\r\n",
        "        #print('after conv3', x.shape)\r\n",
        "        #----------------------------------------------------------------\r\n",
        "        # Up 4\r\n",
        "        x = self.up_4(x)\r\n",
        "        #print('after  up_3', x.shape)\r\n",
        "        lower = int((conv1_dim - x.shape[2]) / 2)\r\n",
        "        upper = int(conv1_dim - lower)\r\n",
        "        conv1_out_modified = conv1_out[:, :, lower:upper, lower:upper]\r\n",
        "        x = torch.cat([x, conv1_out_modified], dim=1)\r\n",
        "        #print('after cat_4', x.shape)\r\n",
        "        x = self.conv_up_4(x)\r\n",
        "        #print('after conv4', x.shape)\r\n",
        "        # Final output\r\n",
        "        x = self.conv_final(x)\r\n",
        "        #print('Finaloutshape',x.shape)\r\n",
        "        #-----------------------------------------------------------------\r\n",
        "        return x\r\n",
        "\r\n",
        "    \r\n",
        "if __name__ == \"__main__\":\r\n",
        "    x= torch.rand(1,1,512,512)\r\n",
        "    net=AnamNet()\r\n",
        "    yy=net(x)\r\n",
        "    print('In Shape :', x.shape)\r\n",
        "    print('Out Shape :', yy.shape)"
      ],
      "execution_count": null,
      "outputs": [
        {
          "output_type": "stream",
          "text": [
            "In Shape : torch.Size([1, 1, 512, 512])\n",
            "Out Shape : torch.Size([1, 3, 512, 512])\n"
          ],
          "name": "stdout"
        }
      ]
    },
    {
      "cell_type": "code",
      "metadata": {
        "colab": {
          "base_uri": "https://localhost:8080/"
        },
        "id": "S87-iT0tt9Xu",
        "outputId": "c7183172-cd3c-4e45-c8e8-bdf9b1c80c3f"
      },
      "source": [
        "!gdown --id 1a9mPUkf3AMNHFqUZQKWFDWZv4LYqL_Bg\r\n",
        "!gdown --id 1vR9JTDWW8q3v3R9Z1fAtjRYGO-YGIj9v"
      ],
      "execution_count": null,
      "outputs": [
        {
          "output_type": "stream",
          "text": [
            "Downloading...\n",
            "From: https://drive.google.com/uc?id=1a9mPUkf3AMNHFqUZQKWFDWZv4LYqL_Bg\n",
            "To: /content/train_image.npy\n",
            "63.9MB [00:00, 124MB/s] \n",
            "Downloading...\n",
            "From: https://drive.google.com/uc?id=1vR9JTDWW8q3v3R9Z1fAtjRYGO-YGIj9v\n",
            "To: /content/train_label.npy\n",
            "52.4MB [00:00, 144MB/s]\n"
          ],
          "name": "stdout"
        }
      ]
    },
    {
      "cell_type": "code",
      "metadata": {
        "colab": {
          "base_uri": "https://localhost:8080/"
        },
        "id": "Xf-WQOHaj5O4",
        "outputId": "25b16108-5b9c-4572-e1e7-5e07ca87fbd9"
      },
      "source": [
        "import numpy as np\r\n",
        "import matplotlib.pyplot as plt\r\n",
        "\r\n",
        "data_arr_im = np.loadtxt(\"train_image.npy\",dtype=int)\r\n",
        "inp1 = data_arr_im.reshape(data_arr_im.shape[0], data_arr_im.shape[1] // 100, 100) \r\n",
        "\r\n",
        "data_arr_lab = np.loadtxt(\"train_label.npy\",dtype=int)\r\n",
        "lab1 = data_arr_lab.reshape(data_arr_lab.shape[0], data_arr_lab.shape[1] // 100, 100) \r\n",
        "\r\n",
        "print(\"inp1.shape  : \", inp1.shape)\r\n",
        "print(\"lab1.shape  : \", inp1.shape)\r\n",
        "\r\n",
        "inp  = inp1\r\n",
        "lab  = lab1\r\n",
        "\r\n",
        "traininp =np.reshape( np.transpose(inp,(2,0,1)),(100,512,512,1))\r\n",
        "trainlab =np.reshape( np.transpose(lab,(2,0,1)),(100,512,512,1))      \r\n",
        "\r\n",
        "print(\"traininp.shape  : \", traininp.shape)\r\n",
        "print(\"trainlab.shape  : \", traininp.shape)"
      ],
      "execution_count": null,
      "outputs": [
        {
          "output_type": "stream",
          "text": [
            "inp1.shape  :  (512, 512, 100)\n",
            "lab1.shape  :  (512, 512, 100)\n",
            "traininp.shape  :  (100, 512, 512, 1)\n",
            "trainlab.shape  :  (100, 512, 512, 1)\n"
          ],
          "name": "stdout"
        }
      ]
    },
    {
      "cell_type": "code",
      "metadata": {
        "colab": {
          "base_uri": "https://localhost:8080/"
        },
        "id": "RFam2kcKwopR",
        "outputId": "88897677-dad4-4fad-cee3-827a9a2dcf16"
      },
      "source": [
        "#Config\r\n",
        "class Config :    \r\n",
        "    def __init__(self):\r\n",
        "        self.gpu       = True\r\n",
        "        self.gpuid     = 1\r\n",
        "        self.batchsize = 5\r\n",
        "        self.epochs    = 100\r\n",
        "\r\n",
        "import torch\r\n",
        "from torch.utils.data import Dataset\r\n",
        "\r\n",
        "#myDataset\r\n",
        "class myDataset(Dataset):\r\n",
        "    def __init__(self, images, labels, transforms):\r\n",
        "        self.X = images\r\n",
        "        self.Y = labels\r\n",
        "        self.transforms = transforms\r\n",
        "         \r\n",
        "    def __len__(self):\r\n",
        "        return (len(self.X))\r\n",
        "    \r\n",
        "    def __getitem__(self, i):\r\n",
        "        datax = self.X[i, :]\r\n",
        "        datay = self.Y[i, :]                     \r\n",
        "        if self.transforms:\r\n",
        "            datax = self.transforms(datax).float()  \r\n",
        "            datay = torch.LongTensor(datay)            \r\n",
        "        return datax, datay     \r\n",
        "\r\n",
        "# Create directory for saving model\r\n",
        "import os,time\r\n",
        "from datetime import datetime\r\n",
        "\r\n",
        "print ('*******************************************************')\r\n",
        "start_time=time.time()\r\n",
        "saveDir='savedModels/'\r\n",
        "cwd=os.getcwd()\r\n",
        "directory=saveDir+datetime.now().strftime(\"%d%b_%I%M%P_\")+'model'\r\n",
        "print('Model will be saved to  :', directory)\r\n",
        "\r\n",
        "if not os.path.exists(directory):\r\n",
        "    os.makedirs(directory)\r\n"
      ],
      "execution_count": null,
      "outputs": [
        {
          "output_type": "stream",
          "text": [
            "*******************************************************\n",
            "Model will be saved to  : savedModels/03Feb_0541pm_model\n"
          ],
          "name": "stdout"
        }
      ]
    },
    {
      "cell_type": "code",
      "metadata": {
        "id": "IPOP7pANyHyO"
      },
      "source": [
        "import os,time\r\n",
        "import sklearn.metrics as metrics\r\n",
        "import scipy.io\r\n",
        "import torch\r\n",
        "import torchvision.transforms as transforms\r\n",
        "import torch.nn.functional as F\r\n",
        "import matplotlib.pyplot as plt\r\n",
        "import numpy as np\r\n",
        "from torch.autograd import Variable\r\n",
        "import tqdm\r\n",
        "import torch.nn as nn\r\n",
        "from datetime import datetime\r\n",
        "#from config import Config\r\n",
        "#from mydataset import myDataset\r\n",
        "#from anamnet import AnamNet\r\n",
        "import torch.optim as optim\r\n",
        "from torch.optim import lr_scheduler\r\n",
        "\r\n",
        "config  = Config()\r\n",
        "transform = transforms.Compose([transforms.ToTensor(),\r\n",
        "            ])\r\n",
        "\r\n",
        "# make the data iterator for training data\r\n",
        "train_data = myDataset(traininp,trainlab, transform)\r\n",
        "trainloader = torch.utils.data.DataLoader(train_data, batch_size=config.batchsize, shuffle=True, num_workers=2)\r\n",
        "\r\n",
        "#\r\n",
        "labels = trainlab.flatten()\r\n",
        "class_count = np.bincount(labels, minlength=3)\r\n",
        "propensity_score = class_count/labels.size ###\r\n",
        "class_weights = 1 / propensity_score #########\r\n"
      ],
      "execution_count": null,
      "outputs": []
    },
    {
      "cell_type": "code",
      "metadata": {
        "colab": {
          "base_uri": "https://localhost:8080/"
        },
        "id": "E79_qN0mDaQ9",
        "outputId": "deec6716-9216-4418-f6af-83e78eec7d5e"
      },
      "source": [
        " print(class_weights)\r\n",
        " class_weights = torch.cuda.FloatTensor(class_weights) #.cuda()"
      ],
      "execution_count": null,
      "outputs": [
        {
          "output_type": "stream",
          "text": [
            "tensor([ 1.3655, 14.2444,  5.0636], device='cuda:0')\n"
          ],
          "name": "stdout"
        }
      ]
    },
    {
      "cell_type": "code",
      "metadata": {
        "colab": {
          "base_uri": "https://localhost:8080/",
          "height": 1000
        },
        "id": "Sw1qcmPw1Q90",
        "outputId": "3957336c-053d-43e0-d82d-794c63b8e561"
      },
      "source": [
        "print('----------------------------------------------------------')\r\n",
        "#%%\r\n",
        "# Create the object for the network\r\n",
        "\r\n",
        "if config.gpu == True:    \r\n",
        "    net = AnamNet()\r\n",
        "    net.cuda() #config.gpuid\r\n",
        "    #class_weights = torch.FloatTensor(class_weights).cuda() #config.gpuid    \r\n",
        "    class_weights = torch.cuda.FloatTensor(class_weights)\r\n",
        "else:\r\n",
        "   net = AnamNet()\r\n",
        "   \r\n",
        "# Define the optimizer\r\n",
        "optimizer = optim.Adam(net.parameters(),lr=5e-4)\r\n",
        "scheduler = lr_scheduler.StepLR(optimizer, step_size=33, gamma=0.1)\r\n",
        "\r\n",
        "# Define the loss function\r\n",
        "criterion = nn.CrossEntropyLoss(weight=class_weights)\r\n",
        "#criterion = nn.CrossEntropyLoss()\r\n",
        "\r\n",
        "\r\n",
        "# Iterate over the training dataset\r\n",
        "train_loss = []\r\n",
        "sens = []\r\n",
        "spec = []\r\n",
        "acc  = []\r\n",
        "img_rows = 512\r\n",
        "img_cols = 512\r\n",
        "numImgs  = 5 # should be same as mini batch size\r\n",
        "\r\n",
        "for j in range(config.epochs):  \r\n",
        "    # Start epochs   \r\n",
        "    runtrainloss = 0\r\n",
        "    net.train() \r\n",
        "    for i,data in tqdm.tqdm(enumerate(trainloader)): \r\n",
        "        # start iterations\r\n",
        "        images,trainLabels = Variable(data[0]),Variable(data[1])\r\n",
        "        \r\n",
        "        # ckeck if gpu is available\r\n",
        "        if config.gpu == True:\r\n",
        "            images  = images.cuda( )#config.gpuid\r\n",
        "            trainLabels = trainLabels.cuda() #config.gpuid\r\n",
        "                    \r\n",
        "        # make forward pass      \r\n",
        "        output = net(images)\r\n",
        "       \r\n",
        "        #compute loss\r\n",
        "        loss   = criterion(output, trainLabels.squeeze())        \r\n",
        "                \r\n",
        "        # make gradients zero\r\n",
        "        optimizer.zero_grad()\r\n",
        "        \r\n",
        "        # back propagate\r\n",
        "        loss.backward()\r\n",
        "        \r\n",
        "        # Accumulate loss for current minibatch\r\n",
        "        runtrainloss += loss.item()\r\n",
        "        \r\n",
        "        \r\n",
        "        # update the parameters\r\n",
        "        optimizer.step()       \r\n",
        "        \r\n",
        "       \r\n",
        "    # print loss after every epoch\r\n",
        "    \r\n",
        "    print('Training - Epoch {}/{}, loss:{:.4f} '.format(j+1, config.epochs, runtrainloss/len(trainloader)))\r\n",
        "    train_loss.append(runtrainloss/len(trainloader))\r\n",
        "    \r\n",
        "       \r\n",
        "    # Take a step for scheduler\r\n",
        "    scheduler.step()\r\n",
        "    \r\n",
        "    \r\n",
        "    #save the model  \r\n",
        "    torch.save(net.state_dict(),os.path.join(directory,\"AnamNet_\" + str(j+1) +\"_model.pth\"))\r\n",
        "    \t    \r\n",
        "\r\n",
        "# Save the train stats\r\n",
        "np.save(directory+'/trnloss.npy',np.array(train_loss) )\r\n",
        "\r\n",
        "\r\n",
        "# plot the training loss\r\n",
        "x = range(config.epochs)\r\n",
        "plt.figure()\r\n",
        "plt.plot(x,train_loss,label='Training')\r\n",
        "plt.xlabel('epochs')\r\n",
        "plt.ylabel('Train Loss ') \r\n",
        "plt.legend(loc=\"upper left\")  \r\n",
        "plt.show()"
      ],
      "execution_count": null,
      "outputs": [
        {
          "output_type": "stream",
          "text": [
            "----------------------------------------------------------\n"
          ],
          "name": "stdout"
        },
        {
          "output_type": "stream",
          "text": [
            "20it [00:13,  1.43it/s]"
          ],
          "name": "stderr"
        },
        {
          "output_type": "stream",
          "text": [
            "Training - Epoch 1/100, loss:1.0332 \n"
          ],
          "name": "stdout"
        },
        {
          "output_type": "stream",
          "text": [
            "\n",
            "20it [00:14,  1.41it/s]"
          ],
          "name": "stderr"
        },
        {
          "output_type": "stream",
          "text": [
            "Training - Epoch 2/100, loss:0.9550 \n"
          ],
          "name": "stdout"
        },
        {
          "output_type": "stream",
          "text": [
            "\n",
            "20it [00:14,  1.38it/s]"
          ],
          "name": "stderr"
        },
        {
          "output_type": "stream",
          "text": [
            "Training - Epoch 3/100, loss:0.9136 \n"
          ],
          "name": "stdout"
        },
        {
          "output_type": "stream",
          "text": [
            "\n",
            "20it [00:14,  1.40it/s]"
          ],
          "name": "stderr"
        },
        {
          "output_type": "stream",
          "text": [
            "Training - Epoch 4/100, loss:0.8973 \n"
          ],
          "name": "stdout"
        },
        {
          "output_type": "stream",
          "text": [
            "\n",
            "20it [00:14,  1.42it/s]"
          ],
          "name": "stderr"
        },
        {
          "output_type": "stream",
          "text": [
            "Training - Epoch 5/100, loss:0.8894 \n"
          ],
          "name": "stdout"
        },
        {
          "output_type": "stream",
          "text": [
            "\n",
            "20it [00:14,  1.43it/s]"
          ],
          "name": "stderr"
        },
        {
          "output_type": "stream",
          "text": [
            "Training - Epoch 6/100, loss:0.8821 \n"
          ],
          "name": "stdout"
        },
        {
          "output_type": "stream",
          "text": [
            "\n",
            "20it [00:13,  1.43it/s]"
          ],
          "name": "stderr"
        },
        {
          "output_type": "stream",
          "text": [
            "Training - Epoch 7/100, loss:0.8847 \n"
          ],
          "name": "stdout"
        },
        {
          "output_type": "stream",
          "text": [
            "\n",
            "20it [00:14,  1.41it/s]"
          ],
          "name": "stderr"
        },
        {
          "output_type": "stream",
          "text": [
            "Training - Epoch 8/100, loss:0.8766 \n"
          ],
          "name": "stdout"
        },
        {
          "output_type": "stream",
          "text": [
            "\n",
            "20it [00:14,  1.41it/s]"
          ],
          "name": "stderr"
        },
        {
          "output_type": "stream",
          "text": [
            "Training - Epoch 9/100, loss:0.8597 \n"
          ],
          "name": "stdout"
        },
        {
          "output_type": "stream",
          "text": [
            "\n",
            "20it [00:14,  1.41it/s]"
          ],
          "name": "stderr"
        },
        {
          "output_type": "stream",
          "text": [
            "Training - Epoch 10/100, loss:0.8567 \n"
          ],
          "name": "stdout"
        },
        {
          "output_type": "stream",
          "text": [
            "\n",
            "20it [00:14,  1.41it/s]"
          ],
          "name": "stderr"
        },
        {
          "output_type": "stream",
          "text": [
            "Training - Epoch 11/100, loss:0.8612 \n"
          ],
          "name": "stdout"
        },
        {
          "output_type": "stream",
          "text": [
            "\n",
            "20it [00:14,  1.42it/s]"
          ],
          "name": "stderr"
        },
        {
          "output_type": "stream",
          "text": [
            "Training - Epoch 12/100, loss:0.8513 \n"
          ],
          "name": "stdout"
        },
        {
          "output_type": "stream",
          "text": [
            "\n",
            "20it [00:14,  1.42it/s]"
          ],
          "name": "stderr"
        },
        {
          "output_type": "stream",
          "text": [
            "Training - Epoch 13/100, loss:0.8591 \n"
          ],
          "name": "stdout"
        },
        {
          "output_type": "stream",
          "text": [
            "\n",
            "20it [00:14,  1.41it/s]"
          ],
          "name": "stderr"
        },
        {
          "output_type": "stream",
          "text": [
            "Training - Epoch 14/100, loss:0.8461 \n"
          ],
          "name": "stdout"
        },
        {
          "output_type": "stream",
          "text": [
            "\n",
            "20it [00:14,  1.41it/s]"
          ],
          "name": "stderr"
        },
        {
          "output_type": "stream",
          "text": [
            "Training - Epoch 15/100, loss:0.8415 \n"
          ],
          "name": "stdout"
        },
        {
          "output_type": "stream",
          "text": [
            "\n",
            "20it [00:14,  1.41it/s]"
          ],
          "name": "stderr"
        },
        {
          "output_type": "stream",
          "text": [
            "Training - Epoch 16/100, loss:0.8317 \n"
          ],
          "name": "stdout"
        },
        {
          "output_type": "stream",
          "text": [
            "\n",
            "20it [00:14,  1.42it/s]"
          ],
          "name": "stderr"
        },
        {
          "output_type": "stream",
          "text": [
            "Training - Epoch 17/100, loss:0.8222 \n"
          ],
          "name": "stdout"
        },
        {
          "output_type": "stream",
          "text": [
            "\n",
            "20it [00:14,  1.41it/s]"
          ],
          "name": "stderr"
        },
        {
          "output_type": "stream",
          "text": [
            "Training - Epoch 18/100, loss:0.8370 \n"
          ],
          "name": "stdout"
        },
        {
          "output_type": "stream",
          "text": [
            "\n",
            "20it [00:14,  1.41it/s]"
          ],
          "name": "stderr"
        },
        {
          "output_type": "stream",
          "text": [
            "Training - Epoch 19/100, loss:0.8145 \n"
          ],
          "name": "stdout"
        },
        {
          "output_type": "stream",
          "text": [
            "\n",
            "20it [00:14,  1.41it/s]"
          ],
          "name": "stderr"
        },
        {
          "output_type": "stream",
          "text": [
            "Training - Epoch 20/100, loss:0.8141 \n"
          ],
          "name": "stdout"
        },
        {
          "output_type": "stream",
          "text": [
            "\n",
            "20it [00:14,  1.41it/s]"
          ],
          "name": "stderr"
        },
        {
          "output_type": "stream",
          "text": [
            "Training - Epoch 21/100, loss:0.7924 \n"
          ],
          "name": "stdout"
        },
        {
          "output_type": "stream",
          "text": [
            "\n",
            "20it [00:14,  1.41it/s]"
          ],
          "name": "stderr"
        },
        {
          "output_type": "stream",
          "text": [
            "Training - Epoch 22/100, loss:0.7999 \n"
          ],
          "name": "stdout"
        },
        {
          "output_type": "stream",
          "text": [
            "\n",
            "20it [00:14,  1.41it/s]"
          ],
          "name": "stderr"
        },
        {
          "output_type": "stream",
          "text": [
            "Training - Epoch 23/100, loss:0.7644 \n"
          ],
          "name": "stdout"
        },
        {
          "output_type": "stream",
          "text": [
            "\n",
            "20it [00:14,  1.41it/s]"
          ],
          "name": "stderr"
        },
        {
          "output_type": "stream",
          "text": [
            "Training - Epoch 24/100, loss:0.7526 \n"
          ],
          "name": "stdout"
        },
        {
          "output_type": "stream",
          "text": [
            "\n",
            "20it [00:14,  1.41it/s]"
          ],
          "name": "stderr"
        },
        {
          "output_type": "stream",
          "text": [
            "Training - Epoch 25/100, loss:0.7518 \n"
          ],
          "name": "stdout"
        },
        {
          "output_type": "stream",
          "text": [
            "\n",
            "20it [00:14,  1.41it/s]"
          ],
          "name": "stderr"
        },
        {
          "output_type": "stream",
          "text": [
            "Training - Epoch 26/100, loss:0.7484 \n"
          ],
          "name": "stdout"
        },
        {
          "output_type": "stream",
          "text": [
            "\n",
            "20it [00:14,  1.41it/s]"
          ],
          "name": "stderr"
        },
        {
          "output_type": "stream",
          "text": [
            "Training - Epoch 27/100, loss:0.7275 \n"
          ],
          "name": "stdout"
        },
        {
          "output_type": "stream",
          "text": [
            "\n",
            "20it [00:14,  1.41it/s]"
          ],
          "name": "stderr"
        },
        {
          "output_type": "stream",
          "text": [
            "Training - Epoch 28/100, loss:0.7057 \n"
          ],
          "name": "stdout"
        },
        {
          "output_type": "stream",
          "text": [
            "\n",
            "20it [00:14,  1.42it/s]"
          ],
          "name": "stderr"
        },
        {
          "output_type": "stream",
          "text": [
            "Training - Epoch 29/100, loss:0.7145 \n"
          ],
          "name": "stdout"
        },
        {
          "output_type": "stream",
          "text": [
            "\n",
            "20it [00:14,  1.41it/s]"
          ],
          "name": "stderr"
        },
        {
          "output_type": "stream",
          "text": [
            "Training - Epoch 30/100, loss:0.6766 \n"
          ],
          "name": "stdout"
        },
        {
          "output_type": "stream",
          "text": [
            "\n",
            "20it [00:14,  1.41it/s]"
          ],
          "name": "stderr"
        },
        {
          "output_type": "stream",
          "text": [
            "Training - Epoch 31/100, loss:0.6593 \n"
          ],
          "name": "stdout"
        },
        {
          "output_type": "stream",
          "text": [
            "\n",
            "20it [00:14,  1.42it/s]"
          ],
          "name": "stderr"
        },
        {
          "output_type": "stream",
          "text": [
            "Training - Epoch 32/100, loss:0.6305 \n"
          ],
          "name": "stdout"
        },
        {
          "output_type": "stream",
          "text": [
            "\n",
            "20it [00:14,  1.41it/s]"
          ],
          "name": "stderr"
        },
        {
          "output_type": "stream",
          "text": [
            "Training - Epoch 33/100, loss:0.6334 \n"
          ],
          "name": "stdout"
        },
        {
          "output_type": "stream",
          "text": [
            "\n",
            "20it [00:14,  1.41it/s]"
          ],
          "name": "stderr"
        },
        {
          "output_type": "stream",
          "text": [
            "Training - Epoch 34/100, loss:0.5887 \n"
          ],
          "name": "stdout"
        },
        {
          "output_type": "stream",
          "text": [
            "\n",
            "20it [00:14,  1.42it/s]"
          ],
          "name": "stderr"
        },
        {
          "output_type": "stream",
          "text": [
            "Training - Epoch 35/100, loss:0.5700 \n"
          ],
          "name": "stdout"
        },
        {
          "output_type": "stream",
          "text": [
            "\n",
            "20it [00:14,  1.42it/s]"
          ],
          "name": "stderr"
        },
        {
          "output_type": "stream",
          "text": [
            "Training - Epoch 36/100, loss:0.5615 \n"
          ],
          "name": "stdout"
        },
        {
          "output_type": "stream",
          "text": [
            "\n",
            "20it [00:14,  1.42it/s]"
          ],
          "name": "stderr"
        },
        {
          "output_type": "stream",
          "text": [
            "Training - Epoch 37/100, loss:0.5481 \n"
          ],
          "name": "stdout"
        },
        {
          "output_type": "stream",
          "text": [
            "\n",
            "20it [00:14,  1.42it/s]"
          ],
          "name": "stderr"
        },
        {
          "output_type": "stream",
          "text": [
            "Training - Epoch 38/100, loss:0.5421 \n"
          ],
          "name": "stdout"
        },
        {
          "output_type": "stream",
          "text": [
            "\n",
            "20it [00:14,  1.41it/s]"
          ],
          "name": "stderr"
        },
        {
          "output_type": "stream",
          "text": [
            "Training - Epoch 39/100, loss:0.5389 \n"
          ],
          "name": "stdout"
        },
        {
          "output_type": "stream",
          "text": [
            "\n",
            "20it [00:14,  1.41it/s]"
          ],
          "name": "stderr"
        },
        {
          "output_type": "stream",
          "text": [
            "Training - Epoch 40/100, loss:0.5399 \n"
          ],
          "name": "stdout"
        },
        {
          "output_type": "stream",
          "text": [
            "\n",
            "20it [00:14,  1.41it/s]"
          ],
          "name": "stderr"
        },
        {
          "output_type": "stream",
          "text": [
            "Training - Epoch 41/100, loss:0.5344 \n"
          ],
          "name": "stdout"
        },
        {
          "output_type": "stream",
          "text": [
            "\n",
            "20it [00:14,  1.41it/s]"
          ],
          "name": "stderr"
        },
        {
          "output_type": "stream",
          "text": [
            "Training - Epoch 42/100, loss:0.5350 \n"
          ],
          "name": "stdout"
        },
        {
          "output_type": "stream",
          "text": [
            "\n",
            "20it [00:14,  1.41it/s]"
          ],
          "name": "stderr"
        },
        {
          "output_type": "stream",
          "text": [
            "Training - Epoch 43/100, loss:0.5263 \n"
          ],
          "name": "stdout"
        },
        {
          "output_type": "stream",
          "text": [
            "\n",
            "20it [00:14,  1.41it/s]"
          ],
          "name": "stderr"
        },
        {
          "output_type": "stream",
          "text": [
            "Training - Epoch 44/100, loss:0.5099 \n"
          ],
          "name": "stdout"
        },
        {
          "output_type": "stream",
          "text": [
            "\n",
            "20it [00:14,  1.42it/s]"
          ],
          "name": "stderr"
        },
        {
          "output_type": "stream",
          "text": [
            "Training - Epoch 45/100, loss:0.5044 \n"
          ],
          "name": "stdout"
        },
        {
          "output_type": "stream",
          "text": [
            "\n",
            "20it [00:14,  1.42it/s]"
          ],
          "name": "stderr"
        },
        {
          "output_type": "stream",
          "text": [
            "Training - Epoch 46/100, loss:0.4979 \n"
          ],
          "name": "stdout"
        },
        {
          "output_type": "stream",
          "text": [
            "\n",
            "20it [00:14,  1.42it/s]"
          ],
          "name": "stderr"
        },
        {
          "output_type": "stream",
          "text": [
            "Training - Epoch 47/100, loss:0.5159 \n"
          ],
          "name": "stdout"
        },
        {
          "output_type": "stream",
          "text": [
            "\n",
            "20it [00:14,  1.41it/s]"
          ],
          "name": "stderr"
        },
        {
          "output_type": "stream",
          "text": [
            "Training - Epoch 48/100, loss:0.4966 \n"
          ],
          "name": "stdout"
        },
        {
          "output_type": "stream",
          "text": [
            "\n",
            "20it [00:14,  1.42it/s]"
          ],
          "name": "stderr"
        },
        {
          "output_type": "stream",
          "text": [
            "Training - Epoch 49/100, loss:0.4922 \n"
          ],
          "name": "stdout"
        },
        {
          "output_type": "stream",
          "text": [
            "\n",
            "20it [00:14,  1.42it/s]"
          ],
          "name": "stderr"
        },
        {
          "output_type": "stream",
          "text": [
            "Training - Epoch 50/100, loss:0.4960 \n"
          ],
          "name": "stdout"
        },
        {
          "output_type": "stream",
          "text": [
            "\n",
            "20it [00:14,  1.41it/s]"
          ],
          "name": "stderr"
        },
        {
          "output_type": "stream",
          "text": [
            "Training - Epoch 51/100, loss:0.4915 \n"
          ],
          "name": "stdout"
        },
        {
          "output_type": "stream",
          "text": [
            "\n",
            "20it [00:14,  1.41it/s]"
          ],
          "name": "stderr"
        },
        {
          "output_type": "stream",
          "text": [
            "Training - Epoch 52/100, loss:0.4764 \n"
          ],
          "name": "stdout"
        },
        {
          "output_type": "stream",
          "text": [
            "\n",
            "20it [00:14,  1.41it/s]"
          ],
          "name": "stderr"
        },
        {
          "output_type": "stream",
          "text": [
            "Training - Epoch 53/100, loss:0.4753 \n"
          ],
          "name": "stdout"
        },
        {
          "output_type": "stream",
          "text": [
            "\n",
            "20it [00:14,  1.41it/s]"
          ],
          "name": "stderr"
        },
        {
          "output_type": "stream",
          "text": [
            "Training - Epoch 54/100, loss:0.4834 \n"
          ],
          "name": "stdout"
        },
        {
          "output_type": "stream",
          "text": [
            "\n",
            "20it [00:14,  1.41it/s]"
          ],
          "name": "stderr"
        },
        {
          "output_type": "stream",
          "text": [
            "Training - Epoch 55/100, loss:0.4715 \n"
          ],
          "name": "stdout"
        },
        {
          "output_type": "stream",
          "text": [
            "\n",
            "20it [00:14,  1.41it/s]"
          ],
          "name": "stderr"
        },
        {
          "output_type": "stream",
          "text": [
            "Training - Epoch 56/100, loss:0.4624 \n"
          ],
          "name": "stdout"
        },
        {
          "output_type": "stream",
          "text": [
            "\n",
            "20it [00:14,  1.41it/s]"
          ],
          "name": "stderr"
        },
        {
          "output_type": "stream",
          "text": [
            "Training - Epoch 57/100, loss:0.4617 \n"
          ],
          "name": "stdout"
        },
        {
          "output_type": "stream",
          "text": [
            "\n",
            "20it [00:14,  1.41it/s]"
          ],
          "name": "stderr"
        },
        {
          "output_type": "stream",
          "text": [
            "Training - Epoch 58/100, loss:0.4480 \n"
          ],
          "name": "stdout"
        },
        {
          "output_type": "stream",
          "text": [
            "\n",
            "20it [00:14,  1.41it/s]"
          ],
          "name": "stderr"
        },
        {
          "output_type": "stream",
          "text": [
            "Training - Epoch 59/100, loss:0.4542 \n"
          ],
          "name": "stdout"
        },
        {
          "output_type": "stream",
          "text": [
            "\n",
            "20it [00:14,  1.41it/s]"
          ],
          "name": "stderr"
        },
        {
          "output_type": "stream",
          "text": [
            "Training - Epoch 60/100, loss:0.4419 \n"
          ],
          "name": "stdout"
        },
        {
          "output_type": "stream",
          "text": [
            "\n",
            "20it [00:14,  1.41it/s]"
          ],
          "name": "stderr"
        },
        {
          "output_type": "stream",
          "text": [
            "Training - Epoch 61/100, loss:0.4372 \n"
          ],
          "name": "stdout"
        },
        {
          "output_type": "stream",
          "text": [
            "\n",
            "20it [00:14,  1.41it/s]"
          ],
          "name": "stderr"
        },
        {
          "output_type": "stream",
          "text": [
            "Training - Epoch 62/100, loss:0.4444 \n"
          ],
          "name": "stdout"
        },
        {
          "output_type": "stream",
          "text": [
            "\n",
            "20it [00:14,  1.41it/s]"
          ],
          "name": "stderr"
        },
        {
          "output_type": "stream",
          "text": [
            "Training - Epoch 63/100, loss:0.4334 \n"
          ],
          "name": "stdout"
        },
        {
          "output_type": "stream",
          "text": [
            "\n",
            "20it [00:14,  1.41it/s]"
          ],
          "name": "stderr"
        },
        {
          "output_type": "stream",
          "text": [
            "Training - Epoch 64/100, loss:0.4240 \n"
          ],
          "name": "stdout"
        },
        {
          "output_type": "stream",
          "text": [
            "\n",
            "20it [00:14,  1.41it/s]"
          ],
          "name": "stderr"
        },
        {
          "output_type": "stream",
          "text": [
            "Training - Epoch 65/100, loss:0.4103 \n"
          ],
          "name": "stdout"
        },
        {
          "output_type": "stream",
          "text": [
            "\n",
            "20it [00:14,  1.41it/s]"
          ],
          "name": "stderr"
        },
        {
          "output_type": "stream",
          "text": [
            "Training - Epoch 66/100, loss:0.4183 \n"
          ],
          "name": "stdout"
        },
        {
          "output_type": "stream",
          "text": [
            "\n",
            "20it [00:14,  1.41it/s]"
          ],
          "name": "stderr"
        },
        {
          "output_type": "stream",
          "text": [
            "Training - Epoch 67/100, loss:0.3934 \n"
          ],
          "name": "stdout"
        },
        {
          "output_type": "stream",
          "text": [
            "\n",
            "20it [00:14,  1.41it/s]"
          ],
          "name": "stderr"
        },
        {
          "output_type": "stream",
          "text": [
            "Training - Epoch 68/100, loss:0.3996 \n"
          ],
          "name": "stdout"
        },
        {
          "output_type": "stream",
          "text": [
            "\n",
            "20it [00:14,  1.41it/s]"
          ],
          "name": "stderr"
        },
        {
          "output_type": "stream",
          "text": [
            "Training - Epoch 69/100, loss:0.4172 \n"
          ],
          "name": "stdout"
        },
        {
          "output_type": "stream",
          "text": [
            "\n",
            "20it [00:14,  1.41it/s]"
          ],
          "name": "stderr"
        },
        {
          "output_type": "stream",
          "text": [
            "Training - Epoch 70/100, loss:0.4069 \n"
          ],
          "name": "stdout"
        },
        {
          "output_type": "stream",
          "text": [
            "\n",
            "20it [00:14,  1.41it/s]"
          ],
          "name": "stderr"
        },
        {
          "output_type": "stream",
          "text": [
            "Training - Epoch 71/100, loss:0.4069 \n"
          ],
          "name": "stdout"
        },
        {
          "output_type": "stream",
          "text": [
            "\n",
            "20it [00:14,  1.41it/s]"
          ],
          "name": "stderr"
        },
        {
          "output_type": "stream",
          "text": [
            "Training - Epoch 72/100, loss:0.3998 \n"
          ],
          "name": "stdout"
        },
        {
          "output_type": "stream",
          "text": [
            "\n",
            "20it [00:14,  1.41it/s]"
          ],
          "name": "stderr"
        },
        {
          "output_type": "stream",
          "text": [
            "Training - Epoch 73/100, loss:0.3855 \n"
          ],
          "name": "stdout"
        },
        {
          "output_type": "stream",
          "text": [
            "\n",
            "20it [00:14,  1.42it/s]"
          ],
          "name": "stderr"
        },
        {
          "output_type": "stream",
          "text": [
            "Training - Epoch 74/100, loss:0.3962 \n"
          ],
          "name": "stdout"
        },
        {
          "output_type": "stream",
          "text": [
            "\n",
            "20it [00:14,  1.41it/s]"
          ],
          "name": "stderr"
        },
        {
          "output_type": "stream",
          "text": [
            "Training - Epoch 75/100, loss:0.3929 \n"
          ],
          "name": "stdout"
        },
        {
          "output_type": "stream",
          "text": [
            "\n",
            "20it [00:14,  1.41it/s]"
          ],
          "name": "stderr"
        },
        {
          "output_type": "stream",
          "text": [
            "Training - Epoch 76/100, loss:0.3942 \n"
          ],
          "name": "stdout"
        },
        {
          "output_type": "stream",
          "text": [
            "\n",
            "20it [00:14,  1.41it/s]"
          ],
          "name": "stderr"
        },
        {
          "output_type": "stream",
          "text": [
            "Training - Epoch 77/100, loss:0.4009 \n"
          ],
          "name": "stdout"
        },
        {
          "output_type": "stream",
          "text": [
            "\n",
            "20it [00:14,  1.41it/s]"
          ],
          "name": "stderr"
        },
        {
          "output_type": "stream",
          "text": [
            "Training - Epoch 78/100, loss:0.3894 \n"
          ],
          "name": "stdout"
        },
        {
          "output_type": "stream",
          "text": [
            "\n",
            "20it [00:14,  1.41it/s]"
          ],
          "name": "stderr"
        },
        {
          "output_type": "stream",
          "text": [
            "Training - Epoch 79/100, loss:0.3898 \n"
          ],
          "name": "stdout"
        },
        {
          "output_type": "stream",
          "text": [
            "\n",
            "20it [00:14,  1.41it/s]"
          ],
          "name": "stderr"
        },
        {
          "output_type": "stream",
          "text": [
            "Training - Epoch 80/100, loss:0.3893 \n"
          ],
          "name": "stdout"
        },
        {
          "output_type": "stream",
          "text": [
            "\n",
            "20it [00:14,  1.41it/s]"
          ],
          "name": "stderr"
        },
        {
          "output_type": "stream",
          "text": [
            "Training - Epoch 81/100, loss:0.3965 \n"
          ],
          "name": "stdout"
        },
        {
          "output_type": "stream",
          "text": [
            "\n",
            "20it [00:14,  1.41it/s]"
          ],
          "name": "stderr"
        },
        {
          "output_type": "stream",
          "text": [
            "Training - Epoch 82/100, loss:0.3868 \n"
          ],
          "name": "stdout"
        },
        {
          "output_type": "stream",
          "text": [
            "\n",
            "20it [00:14,  1.41it/s]"
          ],
          "name": "stderr"
        },
        {
          "output_type": "stream",
          "text": [
            "Training - Epoch 83/100, loss:0.3921 \n"
          ],
          "name": "stdout"
        },
        {
          "output_type": "stream",
          "text": [
            "\n",
            "20it [00:14,  1.41it/s]"
          ],
          "name": "stderr"
        },
        {
          "output_type": "stream",
          "text": [
            "Training - Epoch 84/100, loss:0.3915 \n"
          ],
          "name": "stdout"
        },
        {
          "output_type": "stream",
          "text": [
            "\n",
            "20it [00:14,  1.41it/s]"
          ],
          "name": "stderr"
        },
        {
          "output_type": "stream",
          "text": [
            "Training - Epoch 85/100, loss:0.3933 \n"
          ],
          "name": "stdout"
        },
        {
          "output_type": "stream",
          "text": [
            "\n",
            "20it [00:14,  1.41it/s]"
          ],
          "name": "stderr"
        },
        {
          "output_type": "stream",
          "text": [
            "Training - Epoch 86/100, loss:0.3920 \n"
          ],
          "name": "stdout"
        },
        {
          "output_type": "stream",
          "text": [
            "\n",
            "20it [00:14,  1.41it/s]"
          ],
          "name": "stderr"
        },
        {
          "output_type": "stream",
          "text": [
            "Training - Epoch 87/100, loss:0.4012 \n"
          ],
          "name": "stdout"
        },
        {
          "output_type": "stream",
          "text": [
            "\n",
            "20it [00:14,  1.41it/s]"
          ],
          "name": "stderr"
        },
        {
          "output_type": "stream",
          "text": [
            "Training - Epoch 88/100, loss:0.3922 \n"
          ],
          "name": "stdout"
        },
        {
          "output_type": "stream",
          "text": [
            "\n",
            "20it [00:14,  1.41it/s]"
          ],
          "name": "stderr"
        },
        {
          "output_type": "stream",
          "text": [
            "Training - Epoch 89/100, loss:0.3816 \n"
          ],
          "name": "stdout"
        },
        {
          "output_type": "stream",
          "text": [
            "\n",
            "20it [00:14,  1.41it/s]"
          ],
          "name": "stderr"
        },
        {
          "output_type": "stream",
          "text": [
            "Training - Epoch 90/100, loss:0.3884 \n"
          ],
          "name": "stdout"
        },
        {
          "output_type": "stream",
          "text": [
            "\n",
            "20it [00:14,  1.41it/s]"
          ],
          "name": "stderr"
        },
        {
          "output_type": "stream",
          "text": [
            "Training - Epoch 91/100, loss:0.3880 \n"
          ],
          "name": "stdout"
        },
        {
          "output_type": "stream",
          "text": [
            "\n",
            "20it [00:14,  1.41it/s]"
          ],
          "name": "stderr"
        },
        {
          "output_type": "stream",
          "text": [
            "Training - Epoch 92/100, loss:0.3969 \n"
          ],
          "name": "stdout"
        },
        {
          "output_type": "stream",
          "text": [
            "\n",
            "20it [00:14,  1.41it/s]"
          ],
          "name": "stderr"
        },
        {
          "output_type": "stream",
          "text": [
            "Training - Epoch 93/100, loss:0.3867 \n"
          ],
          "name": "stdout"
        },
        {
          "output_type": "stream",
          "text": [
            "\n",
            "20it [00:14,  1.41it/s]"
          ],
          "name": "stderr"
        },
        {
          "output_type": "stream",
          "text": [
            "Training - Epoch 94/100, loss:0.3811 \n"
          ],
          "name": "stdout"
        },
        {
          "output_type": "stream",
          "text": [
            "\n",
            "20it [00:14,  1.41it/s]"
          ],
          "name": "stderr"
        },
        {
          "output_type": "stream",
          "text": [
            "Training - Epoch 95/100, loss:0.3814 \n"
          ],
          "name": "stdout"
        },
        {
          "output_type": "stream",
          "text": [
            "\n",
            "20it [00:14,  1.41it/s]"
          ],
          "name": "stderr"
        },
        {
          "output_type": "stream",
          "text": [
            "Training - Epoch 96/100, loss:0.3901 \n"
          ],
          "name": "stdout"
        },
        {
          "output_type": "stream",
          "text": [
            "\n",
            "20it [00:14,  1.41it/s]"
          ],
          "name": "stderr"
        },
        {
          "output_type": "stream",
          "text": [
            "Training - Epoch 97/100, loss:0.3755 \n"
          ],
          "name": "stdout"
        },
        {
          "output_type": "stream",
          "text": [
            "\n",
            "20it [00:14,  1.41it/s]"
          ],
          "name": "stderr"
        },
        {
          "output_type": "stream",
          "text": [
            "Training - Epoch 98/100, loss:0.3743 \n"
          ],
          "name": "stdout"
        },
        {
          "output_type": "stream",
          "text": [
            "\n",
            "20it [00:14,  1.41it/s]"
          ],
          "name": "stderr"
        },
        {
          "output_type": "stream",
          "text": [
            "Training - Epoch 99/100, loss:0.3892 \n"
          ],
          "name": "stdout"
        },
        {
          "output_type": "stream",
          "text": [
            "\n",
            "20it [00:14,  1.41it/s]\n"
          ],
          "name": "stderr"
        },
        {
          "output_type": "stream",
          "text": [
            "Training - Epoch 100/100, loss:0.3819 \n"
          ],
          "name": "stdout"
        },
        {
          "output_type": "display_data",
          "data": {
            "image/png": "[encoded data removed]",
            "text/plain": [
              "<Figure size 432x288 with 1 Axes>"
            ]
          },
          "metadata": {
            "tags": [],
            "needs_background": "light"
          }
        }
      ]
    }
  ]
}